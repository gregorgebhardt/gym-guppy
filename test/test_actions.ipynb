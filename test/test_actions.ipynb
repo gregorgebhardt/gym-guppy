{
 "cells": [
  {
   "cell_type": "code",
   "execution_count": 2,
   "metadata": {
    "collapsed": true,
    "pycharm": {
     "is_executing": false
    }
   },
   "outputs": [],
   "source": [
    "import numpy as np\n",
    "\n",
    "from gym_guppy.envs import GuppyEnv\n",
    "from gym_guppy import TurnBoostRobot\n",
    "from gym_guppy.tools.math import row_norm\n"
   ]
  },
  {
   "cell_type": "code",
   "execution_count": 3,
   "outputs": [
    {
     "name": "stderr",
     "text": [
      "/Users/gregor/Applications/miniconda3/envs/nemo_ray/lib/python3.7/site-packages/gym/logger.py:30: UserWarning: \u001b[33mWARN: Box bound precision lowered by casting to float32\u001b[0m\n",
      "  warnings.warn(colorize('%s: %s'%('WARN', msg % args), 'yellow'))\n"
     ],
     "output_type": "stream"
    }
   ],
   "source": [
    "class TestEnv(GuppyEnv):\n",
    "    world_size = world_width, world_height = 100., 100.\n",
    "    def _reset(self):\n",
    "        self._add_robot(TurnBoostRobot(world=self.world,\n",
    "                                       world_bounds=self.world_bounds,\n",
    "                                       position=np.array([.0, .0]),\n",
    "                                       orientation=.0))\n",
    "        # self._add_robot(GoToRobot(world=self.world,\n",
    "        #                           world_bounds=self.world_bounds,\n",
    "        #                           position=np.array([.0, .0]),\n",
    "        #                           orientation=.0))\n",
    "        # self.robot.set_linear_gains(p=2., d=.0)\n",
    "        # self.robot.set_angular_gains(p=1., d=.001)\n",
    "\n",
    "env = TestEnv()"
   ],
   "metadata": {
    "collapsed": false,
    "pycharm": {
     "name": "#%%\n",
     "is_executing": false
    }
   }
  },
  {
   "cell_type": "code",
   "execution_count": 4,
   "outputs": [],
   "source": [
    "def execute_action_list(action_list):\n",
    "    observations = [env.reset()]\n",
    "    for a in action_list:\n",
    "        observations.append(env.step(a)[0])\n",
    "        \n",
    "    return np.asarray(observations).squeeze()\n",
    "\n",
    "def compute_displacement(observations):\n",
    "    displacement = np.diff(observations, axis=0)\n",
    "    norm = row_norm(displacement[:, :2])\n",
    "    return np.c_[displacement[:, :2], norm, displacement[:, 2]]\n",
    "\n",
    "def check_actions_in_action_space(action_list):\n",
    "    failed = False\n",
    "    for a in action_list:\n",
    "        a = np.atleast_2d(a)\n",
    "        if not env.action_space.contains(a):\n",
    "            print(a, \" is not in env's action_space.\")\n",
    "            failed = True\n",
    "    if not failed:\n",
    "        print(\"all actions in env's action_space\")"
   ],
   "metadata": {
    "collapsed": false,
    "pycharm": {
     "name": "#%%\n",
     "is_executing": false
    }
   }
  },
  {
   "cell_type": "code",
   "execution_count": 5,
   "outputs": [
    {
     "name": "stdout",
     "text": [
      "action_space:  Box(1, 2)\n",
      "lower bounds:  [[-3.14159274  0.        ]]\n",
      "upper bounds:  [[3.14159274 0.5       ]]\n"
     ],
     "output_type": "stream"
    }
   ],
   "source": [
    "print(\"action_space: \", env.action_space )\n",
    "print(\"lower bounds: \", env.action_space.low)\n",
    "print(\"upper bounds: \", env.action_space.high)"
   ],
   "metadata": {
    "collapsed": false,
    "pycharm": {
     "name": "#%%\n",
     "is_executing": false
    }
   }
  },
  {
   "cell_type": "code",
   "execution_count": 6,
   "outputs": [
    {
     "name": "stdout",
     "text": [
      "all actions in env's action_space\n"
     ],
     "output_type": "stream"
    }
   ],
   "source": [
    "action_list = np.array([[.0, .015]])\n",
    "check_actions_in_action_space(action_list)\n",
    "observations = execute_action_list(action_list)\n",
    "displacement = compute_displacement(observations)"
   ],
   "metadata": {
    "collapsed": false,
    "pycharm": {
     "name": "#%%\n",
     "is_executing": false
    }
   }
  },
  {
   "cell_type": "code",
   "execution_count": 7,
   "outputs": [
    {
     "data": {
      "text/plain": "array([[0.        , 0.        , 0.        ],\n       [0.56249996, 0.        , 0.        ]])"
     },
     "metadata": {},
     "output_type": "execute_result",
     "execution_count": 7
    }
   ],
   "source": [
    "observations"
   ],
   "metadata": {
    "collapsed": false,
    "pycharm": {
     "name": "#%%\n",
     "is_executing": false
    }
   }
  },
  {
   "cell_type": "code",
   "execution_count": 8,
   "outputs": [
    {
     "data": {
      "text/plain": "array([[0.56249996, 0.        , 0.56249996, 0.        ]])"
     },
     "metadata": {},
     "output_type": "execute_result",
     "execution_count": 8
    }
   ],
   "source": [
    "displacement\n"
   ],
   "metadata": {
    "collapsed": false,
    "pycharm": {
     "name": "#%%\n",
     "is_executing": false
    }
   }
  },
  {
   "cell_type": "markdown",
   "source": [
    "Learn mapping from boost to distance (and constant velocity)\n"
   ],
   "metadata": {
    "collapsed": false
   }
  },
  {
   "cell_type": "code",
   "execution_count": 64,
   "outputs": [],
   "source": [
    "n_samples = 250\n",
    "max_boost = .003\n",
    "# boost_samples = np.random.uniform(.0, max_boost, n_samples)\n",
    "boost_samples = np.random.wald(0.0002, 0.05, n_samples)\n",
    "# boost_samples = np.ones(n_samples) * max_boost\n",
    "action_samples = np.c_[np.zeros(n_samples),\n",
    "                       boost_samples]\n",
    "observations = execute_action_list(action_samples)\n",
    "displacement = compute_displacement(observations)"
   ],
   "metadata": {
    "collapsed": false,
    "pycharm": {
     "name": "#%%\n",
     "is_executing": false
    }
   }
  },
  {
   "cell_type": "code",
   "execution_count": 65,
   "outputs": [
    {
     "data": {
      "text/plain": "<matplotlib.collections.PathCollection at 0x129c30890>"
     },
     "metadata": {},
     "output_type": "execute_result",
     "execution_count": 65
    },
    {
     "data": {
      "text/plain": "<Figure size 432x288 with 1 Axes>",
      "image/png": "[encoded data removed]"
     },
     "metadata": {
      "needs_background": "light"
     },
     "output_type": "display_data"
    }
   ],
   "source": [
    "import matplotlib.pyplot as plt\n",
    "plt.scatter(action_samples[:, 1], displacement[:, 2] * 2)"
   ],
   "metadata": {
    "collapsed": false,
    "pycharm": {
     "name": "#%%\n",
     "is_executing": false
    }
   }
  },
  {
   "cell_type": "code",
   "execution_count": 49,
   "outputs": [],
   "source": [],
   "metadata": {
    "collapsed": false,
    "pycharm": {
     "name": "#%%\n",
     "is_executing": false
    }
   }
  },
  {
   "cell_type": "code",
   "execution_count": null,
   "outputs": [],
   "source": [
    "\n"
   ],
   "metadata": {
    "collapsed": false,
    "pycharm": {
     "name": "#%%\n"
    }
   }
  }
 ],
 "metadata": {
  "kernelspec": {
   "display_name": "Python 3",
   "language": "python",
   "name": "python3"
  },
  "language_info": {
   "codemirror_mode": {
    "name": "ipython",
    "version": 2
   },
   "file_extension": ".py",
   "mimetype": "text/x-python",
   "name": "python",
   "nbconvert_exporter": "python",
   "pygments_lexer": "ipython2",
   "version": "2.7.6"
  },
  "pycharm": {
   "stem_cell": {
    "cell_type": "raw",
    "source": [],
    "metadata": {
     "collapsed": false
    }
   }
  }
 },
 "nbformat": 4,
 "nbformat_minor": 0
}